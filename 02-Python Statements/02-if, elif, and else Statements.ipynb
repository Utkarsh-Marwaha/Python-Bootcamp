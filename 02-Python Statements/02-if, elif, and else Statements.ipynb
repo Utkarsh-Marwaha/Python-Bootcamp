{
 "cells": [
  {
   "cell_type": "markdown",
   "metadata": {},
   "source": [
    "# if, elif, and else Statements"
   ]
  },
  {
   "cell_type": "markdown",
   "metadata": {},
   "source": [
    "The `if` statement in Python allows us to tell the computer to perform alternate actions based on a certain set of results.\n",
    "\n",
    "Verbally, we can imagine us telling the computer:\n",
    "\n",
    "\"Hey! If `this condition` takes place then perform `some` action\"\n",
    "\n",
    "We can then expand the idea further with `elif` and `else` statements, which allows us to tell the computer:\n",
    "\n",
    "\"Hey! If `this case` happens, perform `some` action. Else, if `another case` happens, perform `some other` action. Else, if *none* of the above cases happened, perform this action\"\n",
    "\n",
    "Let's go ahead and look at the syntax format for the `if statement` in Python to get a better idea of this:\n",
    "    \n",
    "    if case1:\n",
    "        perform action1\n",
    "    elif case2:\n",
    "        perform action2\n",
    "    else:\n",
    "        perform action3"
   ]
  },
  {
   "cell_type": "markdown",
   "metadata": {},
   "source": [
    "## First Example"
   ]
  },
  {
   "cell_type": "markdown",
   "metadata": {},
   "source": [
    "Let's see a quick example of this:"
   ]
  },
  {
   "cell_type": "code",
   "execution_count": 1,
   "metadata": {},
   "outputs": [
    {
     "name": "stdout",
     "output_type": "stream",
     "text": [
      "It was True!\n"
     ]
    }
   ],
   "source": [
    "if True:\n",
    "    print('It was True!')"
   ]
  },
  {
   "cell_type": "markdown",
   "metadata": {},
   "source": [
    "Let's add in some magic `else` logic"
   ]
  },
  {
   "cell_type": "code",
   "execution_count": 3,
   "metadata": {},
   "outputs": [
    {
     "name": "stdout",
     "output_type": "stream",
     "text": [
      "I will printed when x is not True\n"
     ]
    }
   ],
   "source": [
    "x = False\n",
    "\n",
    "if x:\n",
    "    print('x was True')\n",
    "else:\n",
    "    print('I will printed when x is not True')"
   ]
  },
  {
   "cell_type": "markdown",
   "metadata": {},
   "source": [
    "## Multiple Branches"
   ]
  },
  {
   "cell_type": "markdown",
   "metadata": {},
   "source": [
    "Let's get a more complete picture of how far the `if`, `elif` and `else` logic can take us.\n",
    "\n",
    "We write this out in a nested structure. Take note of how the `if`, `elif` and `else` logic lines up in the code. This will help you see which `if` statement matches up with which `elif` or `else` statements.\n",
    "\n",
    "We'll reintroduce a comparison syntax for Python. "
   ]
  },
  {
   "cell_type": "code",
   "execution_count": 5,
   "metadata": {},
   "outputs": [
    {
     "name": "stdout",
     "output_type": "stream",
     "text": [
      "Welcome to the Bank!\n"
     ]
    }
   ],
   "source": [
    "loc = 'Bank'\n",
    "\n",
    "if loc == 'Auto Shop':\n",
    "    print(\"Welcome to the Auto Shop\")\n",
    "elif loc == 'Bank':\n",
    "    print(\"Welcome to the Bank!\")\n",
    "else:\n",
    "    print(\"Where are you?\")"
   ]
  },
  {
   "cell_type": "markdown",
   "metadata": {},
   "source": [
    "Note how the nested `if` statements are each evaluated until a `True` boolean causes the nested code below it to run. You should also note that you can put as many `elif` statements before you close off with an `else` statement."
   ]
  },
  {
   "cell_type": "code",
   "execution_count": 6,
   "metadata": {},
   "outputs": [
    {
     "name": "stdout",
     "output_type": "stream",
     "text": [
      "Welcome Sammy\n"
     ]
    }
   ],
   "source": [
    "person = \"Sammy\"\n",
    "\n",
    "if person == \"Sammy\":\n",
    "    print(\"Welcome Sammy\")\n",
    "elif person == \"George\":\n",
    "    print(\"Welcome George\")\n",
    "else:\n",
    "    print(\"Welcome, what's your name?\")"
   ]
  },
  {
   "cell_type": "code",
   "execution_count": 7,
   "metadata": {},
   "outputs": [
    {
     "name": "stdout",
     "output_type": "stream",
     "text": [
      "Welcome George\n"
     ]
    }
   ],
   "source": [
    "person = \"George\"\n",
    "\n",
    "if person == \"Sammy\":\n",
    "    print(\"Welcome Sammy\")\n",
    "elif person == \"George\":\n",
    "    print(\"Welcome George\")\n",
    "else:\n",
    "    print(\"Welcome, what's your name?\")"
   ]
  },
  {
   "cell_type": "markdown",
   "metadata": {},
   "source": [
    "## Indentation"
   ]
  },
  {
   "cell_type": "markdown",
   "metadata": {},
   "source": [
    "It is important to keep a good understanding of indentation works in Python to maintain the structure and order of the code. We will touch on this topic again before we start building out functions."
   ]
  }
 ],
 "metadata": {
  "kernelspec": {
   "display_name": "Python 3",
   "language": "python",
   "name": "python3"
  },
  "language_info": {
   "codemirror_mode": {
    "name": "ipython",
    "version": 3
   },
   "file_extension": ".py",
   "mimetype": "text/x-python",
   "name": "python",
   "nbconvert_exporter": "python",
   "pygments_lexer": "ipython3",
   "version": "3.7.1"
  }
 },
 "nbformat": 4,
 "nbformat_minor": 2
}
